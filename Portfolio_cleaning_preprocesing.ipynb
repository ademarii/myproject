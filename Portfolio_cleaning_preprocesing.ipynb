{
 "cells": [
  {
   "cell_type": "markdown",
   "id": "02990d11",
   "metadata": {},
   "source": [
    "### Data Cleaning & Preprocessing"
   ]
  },
  {
   "cell_type": "markdown",
   "id": "7db93f92",
   "metadata": {},
   "source": [
    "Program to demonstrate skills in cleaning and preprocessing data using libraries like pandas in Python"
   ]
  },
  {
   "cell_type": "markdown",
   "id": "d8df1f30",
   "metadata": {},
   "source": [
    "- Read a csv file using pandas DataFrame (df).\n",
    "- Display the original DataFrame to see the initial state of the data.\n",
    "\n",
    "Cleaning and preprocessing steps:\n",
    "- Handle missing values in the 'Age' and 'Income' columns.\n",
    "- Convert the 'Age' column to numeric values, coercing errors to NaN.\n",
    "- Remove the dollar sign and convert the 'Income' column to float.\n",
    "- Remove duplicate rows from the DataFrame.\n",
    "- Display the cleaned and preprocessed DataFrame."
   ]
  },
  {
   "cell_type": "code",
   "execution_count": 1,
   "id": "109e9954",
   "metadata": {},
   "outputs": [
    {
     "name": "stdout",
     "output_type": "stream",
     "text": [
      "Original DataFrame:\n"
     ]
    },
    {
     "data": {
      "text/html": [
       "<div>\n",
       "<style scoped>\n",
       "    .dataframe tbody tr th:only-of-type {\n",
       "        vertical-align: middle;\n",
       "    }\n",
       "\n",
       "    .dataframe tbody tr th {\n",
       "        vertical-align: top;\n",
       "    }\n",
       "\n",
       "    .dataframe thead th {\n",
       "        text-align: right;\n",
       "    }\n",
       "</style>\n",
       "<table border=\"1\" class=\"dataframe\">\n",
       "  <thead>\n",
       "    <tr style=\"text-align: right;\">\n",
       "      <th></th>\n",
       "      <th>Name</th>\n",
       "      <th>Age</th>\n",
       "      <th>Gender</th>\n",
       "      <th>Income</th>\n",
       "      <th>Education</th>\n",
       "    </tr>\n",
       "  </thead>\n",
       "  <tbody>\n",
       "    <tr>\n",
       "      <th>0</th>\n",
       "      <td>John</td>\n",
       "      <td>25.0</td>\n",
       "      <td>Male</td>\n",
       "      <td>$50000</td>\n",
       "      <td>Bachelor</td>\n",
       "    </tr>\n",
       "    <tr>\n",
       "      <th>1</th>\n",
       "      <td>Jane</td>\n",
       "      <td>30.0</td>\n",
       "      <td>Female</td>\n",
       "      <td>$60000</td>\n",
       "      <td>Master</td>\n",
       "    </tr>\n",
       "    <tr>\n",
       "      <th>2</th>\n",
       "      <td>Bob</td>\n",
       "      <td>NaN</td>\n",
       "      <td>Male</td>\n",
       "      <td>$45000</td>\n",
       "      <td>High School</td>\n",
       "    </tr>\n",
       "    <tr>\n",
       "      <th>3</th>\n",
       "      <td>Alice</td>\n",
       "      <td>22.0</td>\n",
       "      <td>Female</td>\n",
       "      <td>NaN</td>\n",
       "      <td>PhD</td>\n",
       "    </tr>\n",
       "    <tr>\n",
       "      <th>4</th>\n",
       "      <td>Eve</td>\n",
       "      <td>28.0</td>\n",
       "      <td>Female</td>\n",
       "      <td>$70000</td>\n",
       "      <td>Bachelor</td>\n",
       "    </tr>\n",
       "  </tbody>\n",
       "</table>\n",
       "</div>"
      ],
      "text/plain": [
       "    Name   Age  Gender  Income    Education\n",
       "0   John  25.0    Male  $50000     Bachelor\n",
       "1   Jane  30.0  Female  $60000       Master\n",
       "2    Bob   NaN    Male  $45000  High School\n",
       "3  Alice  22.0  Female     NaN          PhD\n",
       "4    Eve  28.0  Female  $70000     Bachelor"
      ]
     },
     "execution_count": 1,
     "metadata": {},
     "output_type": "execute_result"
    }
   ],
   "source": [
    "import pandas as pd\n",
    "\n",
    "# Read data from a CSV file\n",
    "df = pd.read_csv('data2clean.csv')\n",
    "\n",
    "# Display the original DataFrame\n",
    "print(\"Original DataFrame:\")\n",
    "df"
   ]
  },
  {
   "cell_type": "code",
   "execution_count": 2,
   "id": "b4585c4a",
   "metadata": {
    "scrolled": true
   },
   "outputs": [
    {
     "name": "stdout",
     "output_type": "stream",
     "text": [
      "<class 'pandas.core.frame.DataFrame'>\n",
      "RangeIndex: 5 entries, 0 to 4\n",
      "Data columns (total 5 columns):\n",
      " #   Column     Non-Null Count  Dtype  \n",
      "---  ------     --------------  -----  \n",
      " 0   Name       5 non-null      object \n",
      " 1   Age        4 non-null      float64\n",
      " 2   Gender     5 non-null      object \n",
      " 3   Income     4 non-null      object \n",
      " 4   Education  5 non-null      object \n",
      "dtypes: float64(1), object(4)\n",
      "memory usage: 328.0+ bytes\n"
     ]
    }
   ],
   "source": [
    "df.info()"
   ]
  },
  {
   "cell_type": "code",
   "execution_count": 3,
   "id": "625d6a02",
   "metadata": {},
   "outputs": [],
   "source": [
    "# Rename a column \n",
    "df.rename(columns={'Name': 'Firstname'}, inplace=True)"
   ]
  },
  {
   "cell_type": "code",
   "execution_count": 4,
   "id": "6e7a277d",
   "metadata": {},
   "outputs": [
    {
     "name": "stdout",
     "output_type": "stream",
     "text": [
      "\n",
      "Cleaned and Preprocessed DataFrame:\n"
     ]
    },
    {
     "data": {
      "text/html": [
       "<div>\n",
       "<style scoped>\n",
       "    .dataframe tbody tr th:only-of-type {\n",
       "        vertical-align: middle;\n",
       "    }\n",
       "\n",
       "    .dataframe tbody tr th {\n",
       "        vertical-align: top;\n",
       "    }\n",
       "\n",
       "    .dataframe thead th {\n",
       "        text-align: right;\n",
       "    }\n",
       "</style>\n",
       "<table border=\"1\" class=\"dataframe\">\n",
       "  <thead>\n",
       "    <tr style=\"text-align: right;\">\n",
       "      <th></th>\n",
       "      <th>Firstname</th>\n",
       "      <th>Age</th>\n",
       "      <th>Gender</th>\n",
       "      <th>Income</th>\n",
       "      <th>Education</th>\n",
       "    </tr>\n",
       "  </thead>\n",
       "  <tbody>\n",
       "    <tr>\n",
       "      <th>0</th>\n",
       "      <td>John</td>\n",
       "      <td>25.0</td>\n",
       "      <td>Male</td>\n",
       "      <td>50000.0</td>\n",
       "      <td>Bachelor</td>\n",
       "    </tr>\n",
       "    <tr>\n",
       "      <th>1</th>\n",
       "      <td>Jane</td>\n",
       "      <td>30.0</td>\n",
       "      <td>Female</td>\n",
       "      <td>60000.0</td>\n",
       "      <td>Master</td>\n",
       "    </tr>\n",
       "    <tr>\n",
       "      <th>2</th>\n",
       "      <td>Bob</td>\n",
       "      <td>26.5</td>\n",
       "      <td>Male</td>\n",
       "      <td>45000.0</td>\n",
       "      <td>High School</td>\n",
       "    </tr>\n",
       "    <tr>\n",
       "      <th>3</th>\n",
       "      <td>Alice</td>\n",
       "      <td>22.0</td>\n",
       "      <td>Female</td>\n",
       "      <td>0.0</td>\n",
       "      <td>PhD</td>\n",
       "    </tr>\n",
       "    <tr>\n",
       "      <th>4</th>\n",
       "      <td>Eve</td>\n",
       "      <td>28.0</td>\n",
       "      <td>Female</td>\n",
       "      <td>70000.0</td>\n",
       "      <td>Bachelor</td>\n",
       "    </tr>\n",
       "  </tbody>\n",
       "</table>\n",
       "</div>"
      ],
      "text/plain": [
       "  Firstname   Age  Gender   Income    Education\n",
       "0      John  25.0    Male  50000.0     Bachelor\n",
       "1      Jane  30.0  Female  60000.0       Master\n",
       "2       Bob  26.5    Male  45000.0  High School\n",
       "3     Alice  22.0  Female      0.0          PhD\n",
       "4       Eve  28.0  Female  70000.0     Bachelor"
      ]
     },
     "execution_count": 4,
     "metadata": {},
     "output_type": "execute_result"
    }
   ],
   "source": [
    "# Cleaning and preprocessing steps\n",
    "# Handling missing values\n",
    "df['Age'].fillna(df['Age'].median(), inplace=True)\n",
    "df['Income'].fillna('$0', inplace=True)\n",
    "\n",
    "# Converting data types\n",
    "df['Age'] = pd.to_numeric(df['Age'], errors='coerce')  # Convert to numeric, coerce errors to NaN\n",
    "\n",
    "df['Income'] = df['Income'].replace('[\\$,]', '', regex=True).astype(float)  # Remove $ and convert to float\n",
    "\n",
    "df['Income'] = pd.to_numeric(df['Income'].astype('float64').round(2))\n",
    "\n",
    "# Removing duplicates\n",
    "df.drop_duplicates(inplace=True)\n",
    "\n",
    "# Display the cleaned and preprocessed DataFrame\n",
    "print(\"\\nCleaned and Preprocessed DataFrame:\")\n",
    "df"
   ]
  },
  {
   "cell_type": "code",
   "execution_count": 5,
   "id": "409b7abd",
   "metadata": {},
   "outputs": [
    {
     "name": "stdout",
     "output_type": "stream",
     "text": [
      "<class 'pandas.core.frame.DataFrame'>\n",
      "Int64Index: 5 entries, 0 to 4\n",
      "Data columns (total 5 columns):\n",
      " #   Column     Non-Null Count  Dtype  \n",
      "---  ------     --------------  -----  \n",
      " 0   Firstname  5 non-null      object \n",
      " 1   Age        5 non-null      float64\n",
      " 2   Gender     5 non-null      object \n",
      " 3   Income     5 non-null      float64\n",
      " 4   Education  5 non-null      object \n",
      "dtypes: float64(2), object(3)\n",
      "memory usage: 240.0+ bytes\n"
     ]
    }
   ],
   "source": [
    "df.info()"
   ]
  },
  {
   "cell_type": "code",
   "execution_count": null,
   "id": "6de179cc",
   "metadata": {},
   "outputs": [],
   "source": []
  }
 ],
 "metadata": {
  "kernelspec": {
   "display_name": "Python 3 (ipykernel)",
   "language": "python",
   "name": "python3"
  },
  "language_info": {
   "codemirror_mode": {
    "name": "ipython",
    "version": 3
   },
   "file_extension": ".py",
   "mimetype": "text/x-python",
   "name": "python",
   "nbconvert_exporter": "python",
   "pygments_lexer": "ipython3",
   "version": "3.10.9"
  }
 },
 "nbformat": 4,
 "nbformat_minor": 5
}
